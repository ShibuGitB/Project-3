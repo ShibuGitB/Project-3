{
 "cells": [
  {
   "cell_type": "markdown",
   "metadata": {},
   "source": [
    "*Automatic EMAIL Generator Through Face Recognition*"
   ]
  },
  {
   "cell_type": "code",
   "execution_count": 1,
   "metadata": {},
   "outputs": [],
   "source": [
    "import cv2 \n",
    "import pytesseract \n",
    "import re "
   ]
  },
  {
   "cell_type": "markdown",
   "metadata": {},
   "source": [
    "_--Reading the image that holds our Intern Students personal Details_"
   ]
  },
  {
   "cell_type": "code",
   "execution_count": 2,
   "metadata": {},
   "outputs": [],
   "source": [
    "details=cv2.imread(r\"C:\\Users\\shibu\\OneDrive\\Documents\\Deep learning projects\\Email Generator through Face Recognition Open CV Project\\Intern Students Details.jpg\")"
   ]
  },
  {
   "cell_type": "markdown",
   "metadata": {},
   "source": [
    "_--Importing \"pytesseract\" package for the Optical Character Recognition_"
   ]
  },
  {
   "cell_type": "code",
   "execution_count": 3,
   "metadata": {},
   "outputs": [],
   "source": [
    "pytesseract.pytesseract.tesseract_cmd=r\"C:\\Program Files\\Tesseract-OCR\\tesseract.exe\""
   ]
  },
  {
   "cell_type": "markdown",
   "metadata": {},
   "source": [
    "_--Converting personal details Image to Data by \"pytesseract\"_"
   ]
  },
  {
   "cell_type": "code",
   "execution_count": 4,
   "metadata": {},
   "outputs": [],
   "source": [
    "data=pytesseract.image_to_data(details,output_type=pytesseract.Output.DICT) "
   ]
  },
  {
   "cell_type": "markdown",
   "metadata": {},
   "source": [
    "_--Checking how many Texts in the deatils image_"
   ]
  },
  {
   "cell_type": "code",
   "execution_count": 5,
   "metadata": {},
   "outputs": [
    {
     "data": {
      "text/plain": [
       "96"
      ]
     },
     "execution_count": 5,
     "metadata": {},
     "output_type": "execute_result"
    }
   ],
   "source": [
    "n=len(data[\"text\"]) \n",
    "n"
   ]
  },
  {
   "cell_type": "markdown",
   "metadata": {},
   "source": [
    "_--Creating seperate Lists to store different Personal Details of the Intern Students_"
   ]
  },
  {
   "cell_type": "code",
   "execution_count": 6,
   "metadata": {},
   "outputs": [],
   "source": [
    "name=[] \n",
    "email=[] \n",
    "place=[] \n",
    "qualification=[] \n",
    "phone=[] "
   ]
  },
  {
   "cell_type": "markdown",
   "metadata": {},
   "source": [
    "_--Assigning Regular Expressions for each Personal Details_"
   ]
  },
  {
   "cell_type": "code",
   "execution_count": 7,
   "metadata": {},
   "outputs": [],
   "source": [
    "namere=\"[N][a][m][e]\" \n",
    "emailre=\"[a-z0-9]+[@][g][m][a][i][l][.][c][o][m]\" \n",
    "placere=\"[p][l][a][c][e]\" \n",
    "qualire=\"[q][u][a][l][i][f][i][c][a][t][i][o][n]\" \n",
    "phonere= \"[9876][0-9]{9}\" "
   ]
  },
  {
   "cell_type": "markdown",
   "metadata": {},
   "source": [
    "_--Through assigned Regular Expressions for each Details,Detecting the Details from the image and extracting that and storing in corresponding Details List that we created_"
   ]
  },
  {
   "cell_type": "code",
   "execution_count": 8,
   "metadata": {},
   "outputs": [
    {
     "name": "stdout",
     "output_type": "stream",
     "text": [
      "['GAName:LeoDas', 'GBName:Bilal', 'GCName:Stephen', 'GDName:Vikram', 'GEName:DuraiSingham', 'GFName:Chakochi', 'GGName:MuthuvelPandiyan', 'GHName:ParamaSivam', 'GJName:Don']\n"
     ]
    }
   ],
   "source": [
    "for i in range (n) : \n",
    "    \n",
    "    if re.search(namere,data[\"text\"][i]) : \n",
    "        \n",
    "        name.append(data[\"text\"][i]) \n",
    "        \n",
    "print (name)"
   ]
  },
  {
   "cell_type": "code",
   "execution_count": 9,
   "metadata": {},
   "outputs": [
    {
     "name": "stdout",
     "output_type": "stream",
     "text": [
      "['GAEmail:leodas@gmail.com', 'GBEmail:bilaljohn@gmail.com', 'GDEmail:agentvikram@gmail.com', 'GEEmail:singham@gmail.com', 'GFEmail:pulikattilchakochi@gmail.com', 'GGEmail:tigermuthuvel@gmail.com', 'GHEmail:unnisivam@gmail.com', 'GJEmail:don7@gmail.com']\n"
     ]
    }
   ],
   "source": [
    "for i in range (n) : \n",
    "    \n",
    "    if re.search(emailre,data[\"text\"][i]) : \n",
    "        \n",
    "        email.append(data[\"text\"][i]) \n",
    "        \n",
    "print (email)"
   ]
  },
  {
   "cell_type": "code",
   "execution_count": 10,
   "metadata": {},
   "outputs": [
    {
     "name": "stdout",
     "output_type": "stream",
     "text": [
      "['GAplace:AndhraPradhesh', 'GBplace:Kochi', 'GCplace:Kochi', 'GDplace:Chennai', 'GEplace:ThuthuKudi', 'GFplace:Kannur', 'GGplace:Chennai', 'GHplace:Valayar', 'GJplace:Mumbai']\n"
     ]
    }
   ],
   "source": [
    "for i in range (n) : \n",
    "    \n",
    "    if re.search(placere,data[\"text\"][i]) : \n",
    "        \n",
    "        place.append(data[\"text\"][i]) \n",
    "        \n",
    "print (place)"
   ]
  },
  {
   "cell_type": "code",
   "execution_count": 11,
   "metadata": {},
   "outputs": [
    {
     "name": "stdout",
     "output_type": "stream",
     "text": [
      "['GAqualification:DataScience', 'GBqualification:DataScience', 'GCqualification:DataScience', 'GDqualification:DataScience', 'GEqualification:DataScience', 'GFqualification:DataScience', 'GGqualification:DataScience', 'GHqualification:DataScience', 'GJqualification:DataScience']\n"
     ]
    }
   ],
   "source": [
    "for i in range (n) : \n",
    "    \n",
    "    if re.search(qualire,data[\"text\"][i]) : \n",
    "        \n",
    "        qualification.append(data[\"text\"][i]) \n",
    "        \n",
    "print (qualification)"
   ]
  },
  {
   "cell_type": "code",
   "execution_count": 12,
   "metadata": {},
   "outputs": [
    {
     "name": "stdout",
     "output_type": "stream",
     "text": [
      "['GAPhone:9012783456', 'GBPhone:9182736457', 'GCPhone:7890123456', 'GDPhone:8709123456', 'GEPhone:8123084567', 'GFPhone:7788012343', 'GGPhone:9823104576', 'GHPhone:9912340987', 'GJPhone:9865784007']\n"
     ]
    }
   ],
   "source": [
    "for i in range (n) : \n",
    "    \n",
    "    if re.search(phonere,data[\"text\"][i]) : \n",
    "        \n",
    "        phone.append(data[\"text\"][i]) \n",
    "        \n",
    "print (phone)"
   ]
  },
  {
   "cell_type": "code",
   "execution_count": 13,
   "metadata": {},
   "outputs": [],
   "source": [
    "categorydetails=[]\n",
    "cd=[name,email,place,qualification,phone] \n",
    "\n",
    "for i in cd : \n",
    "    \n",
    "    categorydetails.extend(i) "
   ]
  },
  {
   "cell_type": "markdown",
   "metadata": {},
   "source": [
    "_--Creating Lists for each of the students doing Internship_"
   ]
  },
  {
   "cell_type": "code",
   "execution_count": 14,
   "metadata": {},
   "outputs": [],
   "source": [
    "LeoDas=[] \n",
    "Bilal=[]\n",
    "Stephen=[] \n",
    "Vikram=[] \n",
    "DuraiSingham=[] \n",
    "Chakochi=[] \n",
    "MuthuvelPandiyan=[] \n",
    "ParamaSivam=[] \n",
    "Don=[] "
   ]
  },
  {
   "cell_type": "markdown",
   "metadata": {},
   "source": [
    "_--Assigning a Regular Expression for each Students with their individual ID_"
   ]
  },
  {
   "cell_type": "code",
   "execution_count": 15,
   "metadata": {},
   "outputs": [],
   "source": [
    "l=\"^[G][A]\"\n",
    "b=\"^[G][B]\"\n",
    "s=\"^[G][C]\" \n",
    "v=\"^[G][D]\" \n",
    "d=\"^[G][E]\" \n",
    "c=\"^[G][F]\" \n",
    "m=\"^[G][G]\" \n",
    "p=\"^[G][H]\" \n",
    "dn=\"^[G][J]\""
   ]
  },
  {
   "cell_type": "code",
   "execution_count": 16,
   "metadata": {},
   "outputs": [],
   "source": [
    "import re "
   ]
  },
  {
   "cell_type": "markdown",
   "metadata": {},
   "source": [
    "_--Through the student ID Regular Expression detecting & extracting each individual Details and storing it in the corresponding Student Details List_"
   ]
  },
  {
   "cell_type": "code",
   "execution_count": 17,
   "metadata": {},
   "outputs": [
    {
     "data": {
      "text/plain": [
       "['GAName:LeoDas',\n",
       " 'GAEmail:leodas@gmail.com',\n",
       " 'GAplace:AndhraPradhesh',\n",
       " 'GAqualification:DataScience',\n",
       " 'GAPhone:9012783456']"
      ]
     },
     "execution_count": 17,
     "metadata": {},
     "output_type": "execute_result"
    }
   ],
   "source": [
    "for i in categorydetails : \n",
    "    \n",
    "    if re.search (l,i) : \n",
    "        \n",
    "        LeoDas.append(i) \n",
    "        \n",
    "LeoDas"
   ]
  },
  {
   "cell_type": "code",
   "execution_count": 18,
   "metadata": {},
   "outputs": [
    {
     "data": {
      "text/plain": [
       "['GBName:Bilal',\n",
       " 'GBEmail:bilaljohn@gmail.com',\n",
       " 'GBplace:Kochi',\n",
       " 'GBqualification:DataScience',\n",
       " 'GBPhone:9182736457']"
      ]
     },
     "execution_count": 18,
     "metadata": {},
     "output_type": "execute_result"
    }
   ],
   "source": [
    "for i in categorydetails : \n",
    "    \n",
    "    if re.search (b,i) : \n",
    "        \n",
    "        Bilal.append(i) \n",
    "        \n",
    "Bilal"
   ]
  },
  {
   "cell_type": "code",
   "execution_count": 19,
   "metadata": {},
   "outputs": [
    {
     "data": {
      "text/plain": [
       "['GCName:Stephen',\n",
       " 'GCplace:Kochi',\n",
       " 'GCqualification:DataScience',\n",
       " 'GCPhone:7890123456']"
      ]
     },
     "execution_count": 19,
     "metadata": {},
     "output_type": "execute_result"
    }
   ],
   "source": [
    "for i in categorydetails : \n",
    "    \n",
    "    if re.search (s,i) : \n",
    "        \n",
    "        Stephen.append(i) \n",
    "        \n",
    "Stephen"
   ]
  },
  {
   "cell_type": "code",
   "execution_count": 20,
   "metadata": {},
   "outputs": [
    {
     "data": {
      "text/plain": [
       "['GDName:Vikram',\n",
       " 'GDEmail:agentvikram@gmail.com',\n",
       " 'GDplace:Chennai',\n",
       " 'GDqualification:DataScience',\n",
       " 'GDPhone:8709123456']"
      ]
     },
     "execution_count": 20,
     "metadata": {},
     "output_type": "execute_result"
    }
   ],
   "source": [
    "for i in categorydetails : \n",
    "    \n",
    "    if re.search (v,i) : \n",
    "        \n",
    "        Vikram.append(i) \n",
    "        \n",
    "Vikram"
   ]
  },
  {
   "cell_type": "code",
   "execution_count": 21,
   "metadata": {},
   "outputs": [
    {
     "data": {
      "text/plain": [
       "['GEName:DuraiSingham',\n",
       " 'GEEmail:singham@gmail.com',\n",
       " 'GEplace:ThuthuKudi',\n",
       " 'GEqualification:DataScience',\n",
       " 'GEPhone:8123084567']"
      ]
     },
     "execution_count": 21,
     "metadata": {},
     "output_type": "execute_result"
    }
   ],
   "source": [
    "for i in categorydetails : \n",
    "    \n",
    "    if re.search (d,i) : \n",
    "        \n",
    "        DuraiSingham.append(i) \n",
    "        \n",
    "DuraiSingham"
   ]
  },
  {
   "cell_type": "code",
   "execution_count": 22,
   "metadata": {},
   "outputs": [
    {
     "data": {
      "text/plain": [
       "['GFName:Chakochi',\n",
       " 'GFEmail:pulikattilchakochi@gmail.com',\n",
       " 'GFplace:Kannur',\n",
       " 'GFqualification:DataScience',\n",
       " 'GFPhone:7788012343']"
      ]
     },
     "execution_count": 22,
     "metadata": {},
     "output_type": "execute_result"
    }
   ],
   "source": [
    "for i in categorydetails : \n",
    "    \n",
    "    if re.search (c,i) : \n",
    "        \n",
    "        Chakochi.append(i) \n",
    "        \n",
    "Chakochi"
   ]
  },
  {
   "cell_type": "code",
   "execution_count": 23,
   "metadata": {},
   "outputs": [
    {
     "data": {
      "text/plain": [
       "['GGName:MuthuvelPandiyan',\n",
       " 'GGEmail:tigermuthuvel@gmail.com',\n",
       " 'GGplace:Chennai',\n",
       " 'GGqualification:DataScience',\n",
       " 'GGPhone:9823104576']"
      ]
     },
     "execution_count": 23,
     "metadata": {},
     "output_type": "execute_result"
    }
   ],
   "source": [
    "for i in categorydetails : \n",
    "    \n",
    "    if re.search (m,i) : \n",
    "        \n",
    "        MuthuvelPandiyan.append(i) \n",
    "        \n",
    "MuthuvelPandiyan"
   ]
  },
  {
   "cell_type": "code",
   "execution_count": 24,
   "metadata": {},
   "outputs": [
    {
     "data": {
      "text/plain": [
       "['GHName:ParamaSivam',\n",
       " 'GHEmail:unnisivam@gmail.com',\n",
       " 'GHplace:Valayar',\n",
       " 'GHqualification:DataScience',\n",
       " 'GHPhone:9912340987']"
      ]
     },
     "execution_count": 24,
     "metadata": {},
     "output_type": "execute_result"
    }
   ],
   "source": [
    "for i in categorydetails : \n",
    "    \n",
    "    if re.search (p,i) : \n",
    "        \n",
    "        ParamaSivam.append(i) \n",
    "        \n",
    "ParamaSivam"
   ]
  },
  {
   "cell_type": "code",
   "execution_count": 25,
   "metadata": {},
   "outputs": [
    {
     "data": {
      "text/plain": [
       "['GJName:Don',\n",
       " 'GJEmail:don7@gmail.com',\n",
       " 'GJplace:Mumbai',\n",
       " 'GJqualification:DataScience',\n",
       " 'GJPhone:9865784007']"
      ]
     },
     "execution_count": 25,
     "metadata": {},
     "output_type": "execute_result"
    }
   ],
   "source": [
    "for i in categorydetails : \n",
    "    \n",
    "    if re.search (dn,i) : \n",
    "        \n",
    "        Don.append(i) \n",
    "        \n",
    "Don"
   ]
  },
  {
   "cell_type": "markdown",
   "metadata": {},
   "source": [
    "_Imported Face Recognition package & other related Packages_"
   ]
  },
  {
   "cell_type": "code",
   "execution_count": 26,
   "metadata": {},
   "outputs": [],
   "source": [
    "import os \n",
    "import cv2 \n",
    "import face_recognition \n",
    "import numpy as np"
   ]
  },
  {
   "cell_type": "markdown",
   "metadata": {},
   "source": [
    "_Took the folders path that hold our Student images_"
   ]
  },
  {
   "cell_type": "code",
   "execution_count": 27,
   "metadata": {},
   "outputs": [],
   "source": [
    "folderpath=r\"C:\\Users\\shibu\\OneDrive\\Documents\\Deep learning projects\\Email Generator through Face Recognition Open CV Project\\Student Images\""
   ]
  },
  {
   "cell_type": "markdown",
   "metadata": {},
   "source": [
    "_Created an empty lists for collect our students readed Image & their name Labels_"
   ]
  },
  {
   "cell_type": "code",
   "execution_count": 28,
   "metadata": {},
   "outputs": [],
   "source": [
    "studentimages=[] \n",
    "studentnames=[]"
   ]
  },
  {
   "cell_type": "markdown",
   "metadata": {},
   "source": [
    "_Readed and stored the student images & their name Labels to our Empty list_"
   ]
  },
  {
   "cell_type": "code",
   "execution_count": 29,
   "metadata": {},
   "outputs": [],
   "source": [
    "img=os.listdir(folderpath) \n",
    "for i in img : \n",
    "    \n",
    "    imgpath=os.path.join(folderpath,i) \n",
    "    imgread=cv2.imread(imgpath) \n",
    "    studentimages.append(imgread) \n",
    "    studentnames.append(i[:-4]) "
   ]
  },
  {
   "cell_type": "markdown",
   "metadata": {},
   "source": [
    "_FACE RECOGNITION by Face Recognition package_"
   ]
  },
  {
   "cell_type": "code",
   "execution_count": 30,
   "metadata": {},
   "outputs": [],
   "source": [
    "def encodedlist (images) : \n",
    "    \n",
    "    faceencoded=[] \n",
    "    \n",
    "    for i in images : \n",
    "        \n",
    "        rgb=cv2.cvtColor(i,cv2.COLOR_BGR2RGB) \n",
    "        face=face_recognition.face_locations(rgb) \n",
    "        encode=face_recognition.face_encodings(rgb,face)[0]\n",
    "        faceencoded.append(encode) \n",
    "         \n",
    "    return faceencoded \n",
    "\n",
    "knownfaces=encodedlist (studentimages)  "
   ]
  },
  {
   "cell_type": "markdown",
   "metadata": {},
   "source": [
    "_List outs all the students details holding lists_"
   ]
  },
  {
   "cell_type": "code",
   "execution_count": 31,
   "metadata": {},
   "outputs": [],
   "source": [
    "studentsdetailfiles=[Bilal,Chakochi,Don,DuraiSingham,LeoDas,MuthuvelPandiyan,ParamaSivam,Stephen,Vikram] "
   ]
  },
  {
   "cell_type": "markdown",
   "metadata": {},
   "source": [
    "_From the interview students LeoDas,Bilal,Vikram,MuthuvelPandiyan,Don has passed all of  our rounds and selected for the Job position_\n",
    "_so we need to send a clarified Job selection Email to the Email id,s of the respective selected students_"
   ]
  },
  {
   "cell_type": "markdown",
   "metadata": {},
   "source": [
    "_Took a selected student image for the process_"
   ]
  },
  {
   "cell_type": "code",
   "execution_count": 32,
   "metadata": {},
   "outputs": [],
   "source": [
    "selectedstudent=r\"C:\\Users\\shibu\\OneDrive\\Documents\\Deep learning projects\\Email Generator through Face Recognition Open CV Project\\Selected Students\\Leo Das.jpg\""
   ]
  },
  {
   "cell_type": "markdown",
   "metadata": {},
   "source": [
    "_Checked the matching & distance between the selected student face and our all students collected faces and storing in match & distance lists_"
   ]
  },
  {
   "cell_type": "code",
   "execution_count": 33,
   "metadata": {},
   "outputs": [],
   "source": [
    "img2=cv2.imread(selectedstudent) \n",
    "rgb2=cv2.cvtColor(img2,cv2.COLOR_BGR2RGB) \n",
    "face2=face_recognition.face_locations(rgb2) \n",
    "encode2=face_recognition.face_encodings(rgb2,face2) \n",
    "\n",
    "for encode3,face3 in zip(encode2,face2) : \n",
    "    \n",
    "    match=face_recognition.compare_faces(knownfaces,encode3)  \n",
    "    distance=face_recognition.face_distance(knownfaces,encode3) \n",
    "    "
   ]
  },
  {
   "cell_type": "markdown",
   "metadata": {},
   "source": [
    "_From that process here we selecting the nearest or smallest distance from the Distance list,and taking its position_"
   ]
  },
  {
   "cell_type": "code",
   "execution_count": 34,
   "metadata": {},
   "outputs": [
    {
     "data": {
      "text/plain": [
       "4"
      ]
     },
     "execution_count": 34,
     "metadata": {},
     "output_type": "execute_result"
    }
   ],
   "source": [
    "neardistance=np.argmin(distance) \n",
    "neardistance "
   ]
  },
  {
   "cell_type": "markdown",
   "metadata": {},
   "source": [
    "_With that position we taking the students Details list from the all of our students deatils list_"
   ]
  },
  {
   "cell_type": "code",
   "execution_count": 35,
   "metadata": {},
   "outputs": [
    {
     "data": {
      "text/plain": [
       "['GAName:LeoDas',\n",
       " 'GAEmail:leodas@gmail.com',\n",
       " 'GAplace:AndhraPradhesh',\n",
       " 'GAqualification:DataScience',\n",
       " 'GAPhone:9012783456']"
      ]
     },
     "execution_count": 35,
     "metadata": {},
     "output_type": "execute_result"
    }
   ],
   "source": [
    "student=studentsdetailfiles[neardistance] \n",
    "student"
   ]
  },
  {
   "cell_type": "markdown",
   "metadata": {},
   "source": [
    "_Extracted our needed details for the email and pasted that into our Email_"
   ]
  },
  {
   "cell_type": "code",
   "execution_count": 36,
   "metadata": {},
   "outputs": [
    {
     "name": "stdout",
     "output_type": "stream",
     "text": [
      "This Mail is from GOOGLE india for the JOB selection information\n",
      "\t\n",
      "30/3/2024\n",
      "LeoDas\n",
      "leodas@gmail.com\n",
      "AndhraPradhesh\n",
      "\t\n",
      "Dear LeoDas\n",
      "\t\n",
      "We are pleased to offer you employment at GOOGLE india . We feel that your skills and background will be valuable\n",
      "assets to our team.\n",
      "\t\n",
      "Per our discussion,the position is DATA-SCIENTIST. Your starting date will be 15-4-2024. The enclosed employee handbook\n",
      "outlines the medical and retirement benefits that our company offers.\n",
      "\t\n",
      "If you choose to accept this offer,please sign the second copy of this letter in the space provided and return it to us.\n",
      "And also mail a copy of your DataScience course completed certificate copy and a passport size photo of your self\n",
      "A stamped ,self-addressed envelope is enclosed for your convenience. And we will contact you on your phone - 9012783456 .\n",
      "\t\n",
      "We look forward to welcoming you as a new employee at GOOGLE.\n",
      "\t\n",
      "Sincerely\n",
      "\t\n",
      "\t\n",
      "Prakash Kumar\n",
      "HR of GOOGLE\n",
      "enclosure\n"
     ]
    }
   ],
   "source": [
    "print (\"This Mail is from GOOGLE india for the JOB selection information\")\n",
    "print (\"\\t\")\n",
    "print (\"30/3/2024\")\n",
    "print (student[0][7:])\n",
    "print (student[1][8:])\n",
    "print (student[2][8:])\n",
    "print (\"\\t\")\n",
    "print (\"Dear\",student[0][7:])\n",
    "print (\"\\t\")\n",
    "print (\"We are pleased to offer you employment at GOOGLE india . We feel that your skills and background will be valuable\") \n",
    "print (\"assets to our team.\")\n",
    "print (\"\\t\") \n",
    "print (\"Per our discussion,the position is DATA-SCIENTIST. Your starting date will be 15-4-2024. The enclosed employee handbook\") \n",
    "print (\"outlines the medical and retirement benefits that our company offers.\") \n",
    "print (\"\\t\") \n",
    "print (\"If you choose to accept this offer,please sign the second copy of this letter in the space provided and return it to us.\") \n",
    "print (\"And also mail a copy of your\",student[3][16:],\"course completed certificate copy and a passport size photo of your self\")\n",
    "print (\"A stamped ,self-addressed envelope is enclosed for your convenience. And we will contact you on your phone -\",student[4][8:],\".\")\n",
    "print (\"\\t\") \n",
    "print (\"We look forward to welcoming you as a new employee at GOOGLE.\")\n",
    "print (\"\\t\") \n",
    "print (\"Sincerely\")\n",
    "print(\"\\t\")\n",
    "print(\"\\t\")\n",
    "print (\"Prakash Kumar\") \n",
    "print (\"HR of GOOGLE\") \n",
    "print (\"enclosure\")"
   ]
  }
 ],
 "metadata": {
  "kernelspec": {
   "display_name": "Python 3",
   "language": "python",
   "name": "python3"
  },
  "language_info": {
   "codemirror_mode": {
    "name": "ipython",
    "version": 3
   },
   "file_extension": ".py",
   "mimetype": "text/x-python",
   "name": "python",
   "nbconvert_exporter": "python",
   "pygments_lexer": "ipython3",
   "version": "3.11.8"
  }
 },
 "nbformat": 4,
 "nbformat_minor": 2
}
